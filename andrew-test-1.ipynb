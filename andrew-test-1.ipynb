{
 "cells": [
  {
   "cell_type": "code",
   "execution_count": 1,
   "metadata": {
    "collapsed": false
   },
   "outputs": [],
   "source": [
    "import pysense"
   ]
  },
  {
   "cell_type": "code",
   "execution_count": 2,
   "metadata": {
    "collapsed": false
   },
   "outputs": [
    {
     "name": "stdout",
     "output_type": "stream",
     "text": [
      "trying to connect to /dev/ttyUSB0\n",
      "Opening Serial port...\n",
      "Connected to sense at port: /dev/ttyUSB0\n"
     ]
    }
   ],
   "source": [
    "board = pysense.PySense()"
   ]
  },
  {
   "cell_type": "code",
   "execution_count": 3,
   "metadata": {
    "collapsed": false
   },
   "outputs": [
    {
     "data": {
      "text/plain": [
       "Serial<id=0xb53d992c, open=True>(port='/dev/ttyUSB0', baudrate=115200, bytesize=8, parity='N', stopbits=1, timeout=1, xonxoff=False, rtscts=False, dsrdtr=False)"
      ]
     },
     "execution_count": 3,
     "metadata": {},
     "output_type": "execute_result"
    }
   ],
   "source": [
    "board.ser"
   ]
  },
  {
   "cell_type": "code",
   "execution_count": 4,
   "metadata": {
    "collapsed": false
   },
   "outputs": [
    {
     "data": {
      "text/plain": [
       "(255, 170)"
      ]
     },
     "execution_count": 4,
     "metadata": {},
     "output_type": "execute_result"
    }
   ],
   "source": [
    "board.ping()\n"
   ]
  },
  {
   "cell_type": "code",
   "execution_count": 16,
   "metadata": {
    "collapsed": false
   },
   "outputs": [],
   "source": [
    "import serial\n",
    "import sys\n",
    "import time\n"
   ]
  },
  {
   "cell_type": "code",
   "execution_count": 31,
   "metadata": {
    "collapsed": false,
    "scrolled": true
   },
   "outputs": [
    {
     "name": "stdout",
     "output_type": "stream",
     "text": [
      "/dev/ttyS31\n",
      "/dev/ttyS30\n",
      "/dev/ttyS29\n",
      "/dev/ttyS28\n",
      "/dev/ttyS27\n",
      "/dev/ttyS26\n",
      "/dev/ttyS25\n",
      "/dev/ttyS24\n",
      "/dev/ttyS23\n",
      "/dev/ttyS22\n",
      "/dev/ttyS21\n",
      "/dev/ttyS20\n",
      "/dev/ttyS19\n",
      "/dev/ttyS18\n",
      "/dev/ttyS17\n",
      "/dev/ttyS16\n",
      "/dev/ttyS15\n",
      "/dev/ttyS14\n",
      "/dev/ttyS13\n",
      "/dev/ttyS12\n",
      "/dev/ttyS11\n",
      "/dev/ttyS10\n",
      "/dev/ttyS9\n",
      "/dev/ttyS8\n",
      "/dev/ttyS7\n",
      "/dev/ttyS6\n",
      "/dev/ttyS5\n",
      "/dev/ttyS4\n",
      "/dev/ttyS3\n",
      "/dev/ttyS2\n",
      "/dev/ttyS1\n",
      "/dev/ttyS0\n",
      "/dev/ttyUSB0\n"
     ]
    }
   ],
   "source": [
    "for com in board.scanPosix():\n",
    "    print(com)"
   ]
  },
  {
   "cell_type": "code",
   "execution_count": 9,
   "metadata": {
    "collapsed": false,
    "scrolled": true
   },
   "outputs": [],
   "source": [
    "board.ser = serial.Serial('/dev/ttyUSB0', 115200, timeout=1)"
   ]
  },
  {
   "cell_type": "code",
   "execution_count": 26,
   "metadata": {
    "collapsed": false,
    "scrolled": true
   },
   "outputs": [
    {
     "name": "stdout",
     "output_type": "stream",
     "text": [
      "/dev/ttyS31 Could not configure port: (5, 'Input/output error')\n",
      "/dev/ttyS30 Could not configure port: (5, 'Input/output error')\n",
      "/dev/ttyS29 Could not configure port: (5, 'Input/output error')\n",
      "/dev/ttyS28 Could not configure port: (5, 'Input/output error')\n",
      "/dev/ttyS27 Could not configure port: (5, 'Input/output error')\n",
      "/dev/ttyS26 Could not configure port: (5, 'Input/output error')\n",
      "/dev/ttyS25 Could not configure port: (5, 'Input/output error')\n",
      "/dev/ttyS24 Could not configure port: (5, 'Input/output error')\n",
      "/dev/ttyS23 Could not configure port: (5, 'Input/output error')\n",
      "/dev/ttyS22 Could not configure port: (5, 'Input/output error')\n",
      "/dev/ttyS21 Could not configure port: (5, 'Input/output error')\n",
      "/dev/ttyS20 Could not configure port: (5, 'Input/output error')\n",
      "/dev/ttyS19 Could not configure port: (5, 'Input/output error')\n",
      "/dev/ttyS18 Could not configure port: (5, 'Input/output error')\n",
      "/dev/ttyS17 Could not configure port: (5, 'Input/output error')\n",
      "/dev/ttyS16 Could not configure port: (5, 'Input/output error')\n",
      "/dev/ttyS15 Could not configure port: (5, 'Input/output error')\n",
      "/dev/ttyS14 Could not configure port: (5, 'Input/output error')\n",
      "/dev/ttyS13 Could not configure port: (5, 'Input/output error')\n",
      "/dev/ttyS12 Could not configure port: (5, 'Input/output error')\n",
      "/dev/ttyS11 Could not configure port: (5, 'Input/output error')\n",
      "/dev/ttyS10 Could not configure port: (5, 'Input/output error')\n",
      "/dev/ttyS9 Could not configure port: (5, 'Input/output error')\n",
      "/dev/ttyS8 Could not configure port: (5, 'Input/output error')\n",
      "/dev/ttyS7 Could not configure port: (5, 'Input/output error')\n",
      "/dev/ttyS6 Could not configure port: (5, 'Input/output error')\n",
      "/dev/ttyS5 Could not configure port: (5, 'Input/output error')\n",
      "/dev/ttyS4 Could not configure port: (5, 'Input/output error')\n",
      "/dev/ttyS3 Could not configure port: (5, 'Input/output error')\n",
      "/dev/ttyS2 Could not configure port: (5, 'Input/output error')\n",
      "/dev/ttyS1 Could not configure port: (5, 'Input/output error')\n",
      "/dev/ttyS0 Could not configure port: (5, 'Input/output error')\n",
      "trying to connect to /dev/ttyUSB0\n",
      "b'55ffaa0460'\n",
      "Opening Serial port...\n",
      "Connected to sense at port: /dev/ttyUSB0\n"
     ]
    }
   ],
   "source": [
    "for com in board.scanPosix():\n",
    "                try:\n",
    "                    board.ser = serial.Serial(com, 115200, timeout=1)\n",
    "                    print (\"trying to connect to \" + str(com))\n",
    "                    sys.stdout.flush()\n",
    "                    time.sleep(2)\n",
    "                    response = board.pingSenseBoard()\n",
    "                    print(response)\n",
    "                    sys.stdout.flush()\n",
    "                    if response == \"b'55ffaa0460'\":\n",
    "                        print (\"Opening Serial port...\")\n",
    "                        time.sleep(2)\n",
    "                        print (\"Connected to sense at port: \" + board.ser.name)\n",
    "                        sys.stdout.flush()\n",
    "                        break\n",
    "                    else:\n",
    "                        board.ser.close()\n",
    "\n",
    "                except serial.SerialException as e:\n",
    "                    print(com, e)\n",
    "                    #pass"
   ]
  },
  {
   "cell_type": "code",
   "execution_count": 27,
   "metadata": {
    "collapsed": false
   },
   "outputs": [
    {
     "data": {
      "text/plain": [
       "\"b'55ffaa0460'\""
      ]
     },
     "execution_count": 27,
     "metadata": {},
     "output_type": "execute_result"
    }
   ],
   "source": [
    "board.pingSenseBoard()"
   ]
  },
  {
   "cell_type": "code",
   "execution_count": 28,
   "metadata": {
    "collapsed": false
   },
   "outputs": [
    {
     "data": {
      "text/plain": [
       "\"b'55ffaa'\""
      ]
     },
     "execution_count": 28,
     "metadata": {},
     "output_type": "execute_result"
    }
   ],
   "source": [
    "board.ledOn(2)"
   ]
  },
  {
   "cell_type": "code",
   "execution_count": 29,
   "metadata": {
    "collapsed": false
   },
   "outputs": [
    {
     "data": {
      "text/plain": [
       "\"b'55ffaa'\""
      ]
     },
     "execution_count": 29,
     "metadata": {},
     "output_type": "execute_result"
    }
   ],
   "source": [
    "board.ledOn(3)"
   ]
  },
  {
   "cell_type": "code",
   "execution_count": 30,
   "metadata": {
    "collapsed": false
   },
   "outputs": [
    {
     "data": {
      "text/plain": [
       "\"b'55ffaa'\""
      ]
     },
     "execution_count": 30,
     "metadata": {},
     "output_type": "execute_result"
    }
   ],
   "source": [
    "board.ledOff(2)"
   ]
  },
  {
   "cell_type": "code",
   "execution_count": null,
   "metadata": {
    "collapsed": true
   },
   "outputs": [],
   "source": []
  }
 ],
 "metadata": {
  "kernelspec": {
   "display_name": "Python 3",
   "language": "python",
   "name": "python3"
  },
  "language_info": {
   "codemirror_mode": {
    "name": "ipython",
    "version": 3
   },
   "file_extension": ".py",
   "mimetype": "text/x-python",
   "name": "python",
   "nbconvert_exporter": "python",
   "pygments_lexer": "ipython3",
   "version": "3.4.0"
  }
 },
 "nbformat": 4,
 "nbformat_minor": 0
}
