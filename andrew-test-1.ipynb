{
 "cells": [
  {
   "cell_type": "code",
   "execution_count": 20,
   "metadata": {
    "collapsed": false
   },
   "outputs": [
    {
     "name": "stdout",
     "output_type": "stream",
     "text": [
      "20\n"
     ]
    }
   ],
   "source": []
  },
  {
   "cell_type": "code",
   "execution_count": 2,
   "metadata": {
    "collapsed": false
   },
   "outputs": [
    {
     "name": "stdout",
     "output_type": "stream",
     "text": [
      "trying to connect to /dev/ttyUSB0\n",
      "Opening Serial port...\n",
      "Connected to sense at port: /dev/ttyUSB0\n",
      "Threads starting\n",
      "Waiting for Senseboard\n",
      "Waiting for Senseboard\n",
      "Waiting for Senseboard\n",
      "Waiting for Senseboard\n",
      "Waiting for Senseboard\n",
      "Waiting for Senseboard\n"
     ]
    },
    {
     "ename": "SerialException",
     "evalue": "device reports readiness to read but returned no data (device disconnected?)",
     "output_type": "error",
     "traceback": [
      "\u001b[1;31m---------------------------------------------------------------------------\u001b[0m",
      "\u001b[1;31mSerialException\u001b[0m                           Traceback (most recent call last)",
      "\u001b[1;32m<ipython-input-2-5fa36fb99ae9>\u001b[0m in \u001b[0;36m<module>\u001b[1;34m()\u001b[0m\n\u001b[1;32m----> 1\u001b[1;33m \u001b[0mboard\u001b[0m \u001b[1;33m=\u001b[0m \u001b[0mpysense\u001b[0m\u001b[1;33m.\u001b[0m\u001b[0mPySense\u001b[0m\u001b[1;33m(\u001b[0m\u001b[1;33m)\u001b[0m\u001b[1;33m\u001b[0m\u001b[0m\n\u001b[0m",
      "\u001b[1;32m/home/andrew/Documents/programming/Sense-Library/pysense.py\u001b[0m in \u001b[0;36m__init__\u001b[1;34m(self)\u001b[0m\n\u001b[0;32m    321\u001b[0m \u001b[1;33m\u001b[0m\u001b[0m\n\u001b[0;32m    322\u001b[0m         \u001b[0mprint\u001b[0m\u001b[1;33m(\u001b[0m\u001b[1;34m\"Threads starting\"\u001b[0m\u001b[1;33m)\u001b[0m\u001b[1;33m\u001b[0m\u001b[0m\n\u001b[1;32m--> 323\u001b[1;33m         \u001b[0mself\u001b[0m\u001b[1;33m.\u001b[0m\u001b[0mreader\u001b[0m\u001b[1;33m=\u001b[0m\u001b[0mthreading\u001b[0m\u001b[1;33m.\u001b[0m\u001b[0mThread\u001b[0m\u001b[1;33m(\u001b[0m\u001b[0mtarget\u001b[0m\u001b[1;33m=\u001b[0m\u001b[0mself\u001b[0m\u001b[1;33m.\u001b[0m\u001b[0mreading_senseboard\u001b[0m\u001b[1;33m(\u001b[0m\u001b[1;33m)\u001b[0m\u001b[1;33m,\u001b[0m\u001b[0mdaemon\u001b[0m\u001b[1;33m=\u001b[0m\u001b[1;32mTrue\u001b[0m\u001b[1;33m)\u001b[0m\u001b[1;33m\u001b[0m\u001b[0m\n\u001b[0m\u001b[0;32m    324\u001b[0m         \u001b[0mself\u001b[0m\u001b[1;33m.\u001b[0m\u001b[0mreader\u001b[0m\u001b[1;33m.\u001b[0m\u001b[0mstart\u001b[0m\u001b[1;33m(\u001b[0m\u001b[1;33m)\u001b[0m\u001b[1;33m\u001b[0m\u001b[0m\n\u001b[0;32m    325\u001b[0m         \u001b[1;31m# self.interpreter=threading.Thread(target=self.interpret_senseboard())\u001b[0m\u001b[1;33m\u001b[0m\u001b[1;33m\u001b[0m\u001b[0m\n",
      "\u001b[1;32m/home/andrew/Documents/programming/Sense-Library/pysense.py\u001b[0m in \u001b[0;36mreading_senseboard\u001b[1;34m(self)\u001b[0m\n\u001b[0;32m    235\u001b[0m         \u001b[1;32mwhile\u001b[0m \u001b[1;32mTrue\u001b[0m\u001b[1;33m:\u001b[0m\u001b[1;33m\u001b[0m\u001b[0m\n\u001b[0;32m    236\u001b[0m             \u001b[0mprint\u001b[0m\u001b[1;33m(\u001b[0m\u001b[1;34m\"Waiting for Senseboard\"\u001b[0m\u001b[1;33m)\u001b[0m\u001b[1;33m\u001b[0m\u001b[0m\n\u001b[1;32m--> 237\u001b[1;33m             \u001b[0mself\u001b[0m\u001b[1;33m.\u001b[0m\u001b[0msensor_bursts\u001b[0m\u001b[1;33m.\u001b[0m\u001b[0mput\u001b[0m\u001b[1;33m(\u001b[0m\u001b[0mself\u001b[0m\u001b[1;33m.\u001b[0m\u001b[0mser\u001b[0m\u001b[1;33m.\u001b[0m\u001b[0mread\u001b[0m\u001b[1;33m(\u001b[0m\u001b[0msize\u001b[0m\u001b[1;33m=\u001b[0m\u001b[1;36m1\u001b[0m\u001b[1;33m)\u001b[0m\u001b[1;33m)\u001b[0m\u001b[1;33m\u001b[0m\u001b[0m\n\u001b[0m\u001b[0;32m    238\u001b[0m             \u001b[0mself\u001b[0m\u001b[1;33m.\u001b[0m\u001b[0mready_to_interpret\u001b[0m\u001b[1;33m.\u001b[0m\u001b[0mset\u001b[0m\u001b[1;33m(\u001b[0m\u001b[1;33m)\u001b[0m\u001b[1;33m\u001b[0m\u001b[0m\n\u001b[0;32m    239\u001b[0m \u001b[1;33m\u001b[0m\u001b[0m\n",
      "\u001b[1;32m/usr/lib/python3/dist-packages/serial/serialposix.py\u001b[0m in \u001b[0;36mread\u001b[1;34m(self, size)\u001b[0m\n\u001b[0;32m    458\u001b[0m                 \u001b[1;31m# behavior that they are always ready to read immediately\u001b[0m\u001b[1;33m\u001b[0m\u001b[1;33m\u001b[0m\u001b[0m\n\u001b[0;32m    459\u001b[0m                 \u001b[1;31m# but reading returns nothing.\u001b[0m\u001b[1;33m\u001b[0m\u001b[1;33m\u001b[0m\u001b[0m\n\u001b[1;32m--> 460\u001b[1;33m                 \u001b[1;32mraise\u001b[0m \u001b[0mSerialException\u001b[0m\u001b[1;33m(\u001b[0m\u001b[1;34m'device reports readiness to read but returned no data (device disconnected?)'\u001b[0m\u001b[1;33m)\u001b[0m\u001b[1;33m\u001b[0m\u001b[0m\n\u001b[0m\u001b[0;32m    461\u001b[0m             \u001b[0mread\u001b[0m\u001b[1;33m.\u001b[0m\u001b[0mextend\u001b[0m\u001b[1;33m(\u001b[0m\u001b[0mbuf\u001b[0m\u001b[1;33m)\u001b[0m\u001b[1;33m\u001b[0m\u001b[0m\n\u001b[0;32m    462\u001b[0m         \u001b[1;32mreturn\u001b[0m \u001b[0mbytes\u001b[0m\u001b[1;33m(\u001b[0m\u001b[0mread\u001b[0m\u001b[1;33m)\u001b[0m\u001b[1;33m\u001b[0m\u001b[0m\n",
      "\u001b[1;31mSerialException\u001b[0m: device reports readiness to read but returned no data (device disconnected?)"
     ]
    }
   ],
   "source": [
    "board = pysense.PySense()"
   ]
  },
  {
   "cell_type": "code",
   "execution_count": 3,
   "metadata": {
    "collapsed": false
   },
   "outputs": [
    {
     "ename": "NameError",
     "evalue": "name 'reader' is not defined",
     "output_type": "error",
     "traceback": [
      "\u001b[1;31m---------------------------------------------------------------------------\u001b[0m",
      "\u001b[1;31mNameError\u001b[0m                                 Traceback (most recent call last)",
      "\u001b[1;32m<ipython-input-3-54728eb9beb0>\u001b[0m in \u001b[0;36m<module>\u001b[1;34m()\u001b[0m\n\u001b[1;32m----> 1\u001b[1;33m \u001b[0mboard\u001b[0m\u001b[1;33m.\u001b[0m\u001b[0mmessage_reciever\u001b[0m\u001b[1;33m(\u001b[0m\u001b[1;33m)\u001b[0m\u001b[1;33m\u001b[0m\u001b[0m\n\u001b[0m",
      "\u001b[1;32m/home/andrew/Documents/programming/Sense-Library/pysense.py\u001b[0m in \u001b[0;36mmessage_reciever\u001b[1;34m(self)\u001b[0m\n\u001b[0;32m     57\u001b[0m     \u001b[0minterpreter\u001b[0m\u001b[1;33m=\u001b[0m\u001b[0mthreading\u001b[0m\u001b[1;33m.\u001b[0m\u001b[0mThread\u001b[0m\u001b[1;33m(\u001b[0m\u001b[0mtarget\u001b[0m\u001b[1;33m=\u001b[0m\u001b[0minterpret_senseboard\u001b[0m\u001b[1;33m)\u001b[0m\u001b[1;33m\u001b[0m\u001b[0m\n\u001b[0;32m     58\u001b[0m     \u001b[1;32mdef\u001b[0m \u001b[0mmessage_reciever\u001b[0m\u001b[1;33m(\u001b[0m\u001b[0mself\u001b[0m\u001b[1;33m)\u001b[0m\u001b[1;33m:\u001b[0m\u001b[1;33m\u001b[0m\u001b[0m\n\u001b[1;32m---> 59\u001b[1;33m         \u001b[0mreader\u001b[0m\u001b[1;33m.\u001b[0m\u001b[0mrun\u001b[0m\u001b[1;33m(\u001b[0m\u001b[0mself\u001b[0m\u001b[1;33m)\u001b[0m\u001b[1;33m\u001b[0m\u001b[0m\n\u001b[0m\u001b[0;32m     60\u001b[0m         \u001b[0minterpreter\u001b[0m\u001b[1;33m.\u001b[0m\u001b[0mrun\u001b[0m\u001b[1;33m(\u001b[0m\u001b[0mself\u001b[0m\u001b[1;33m)\u001b[0m\u001b[1;33m\u001b[0m\u001b[0m\n\u001b[0;32m     61\u001b[0m \u001b[1;33m\u001b[0m\u001b[0m\n",
      "\u001b[1;31mNameError\u001b[0m: name 'reader' is not defined"
     ]
    }
   ],
   "source": [
    "board.message_reciever()"
   ]
  },
  {
   "cell_type": "code",
   "execution_count": null,
   "metadata": {
    "collapsed": false
   },
   "outputs": [],
   "source": [
    "board.led_scale(90)"
   ]
  },
  {
   "cell_type": "code",
   "execution_count": null,
   "metadata": {
    "collapsed": false
   },
   "outputs": [],
   "source": [
    "board.led_on(8)"
   ]
  },
  {
   "cell_type": "code",
   "execution_count": 65,
   "metadata": {
    "collapsed": false
   },
   "outputs": [
    {
     "data": {
      "text/plain": [
       "(0, 888)"
      ]
     },
     "execution_count": 65,
     "metadata": {},
     "output_type": "execute_result"
    }
   ],
   "source": [
    "board.read_sensor(pysense.INPUT_C)"
   ]
  },
  {
   "cell_type": "code",
   "execution_count": 55,
   "metadata": {
    "collapsed": false,
    "scrolled": true
   },
   "outputs": [
    {
     "name": "stdout",
     "output_type": "stream",
     "text": [
      "/dev/ttyS31\n",
      "/dev/ttyS30\n",
      "/dev/ttyS29\n",
      "/dev/ttyS28\n",
      "/dev/ttyS27\n",
      "/dev/ttyS26\n",
      "/dev/ttyS25\n",
      "/dev/ttyS24\n",
      "/dev/ttyS23\n",
      "/dev/ttyS22\n",
      "/dev/ttyS21\n",
      "/dev/ttyS20\n",
      "/dev/ttyS19\n",
      "/dev/ttyS18\n",
      "/dev/ttyS17\n",
      "/dev/ttyS16\n",
      "/dev/ttyS15\n",
      "/dev/ttyS14\n",
      "/dev/ttyS13\n",
      "/dev/ttyS12\n",
      "/dev/ttyS11\n",
      "/dev/ttyS10\n",
      "/dev/ttyS9\n",
      "/dev/ttyS8\n",
      "/dev/ttyS7\n",
      "/dev/ttyS6\n",
      "/dev/ttyS5\n",
      "/dev/ttyS4\n",
      "/dev/ttyS3\n",
      "/dev/ttyS2\n",
      "/dev/ttyS1\n",
      "/dev/ttyS0\n",
      "/dev/ttyUSB0\n"
     ]
    }
   ],
   "source": [
    "for com in board.scanPosix():\n",
    "    print(com)"
   ]
  },
  {
   "cell_type": "code",
   "execution_count": 33,
   "metadata": {
    "collapsed": false,
    "scrolled": true
   },
   "outputs": [
    {
     "ename": "NameError",
     "evalue": "name 'serial' is not defined",
     "output_type": "error",
     "traceback": [
      "\u001b[1;31m---------------------------------------------------------------------------\u001b[0m",
      "\u001b[1;31mNameError\u001b[0m                                 Traceback (most recent call last)",
      "\u001b[1;32m<ipython-input-33-c317affbc993>\u001b[0m in \u001b[0;36m<module>\u001b[1;34m()\u001b[0m\n\u001b[1;32m----> 1\u001b[1;33m \u001b[0mboard\u001b[0m\u001b[1;33m.\u001b[0m\u001b[0mser\u001b[0m \u001b[1;33m=\u001b[0m \u001b[0mserial\u001b[0m\u001b[1;33m.\u001b[0m\u001b[0mSerial\u001b[0m\u001b[1;33m(\u001b[0m\u001b[1;34m'/dev/ttyUSB0'\u001b[0m\u001b[1;33m,\u001b[0m \u001b[1;36m115200\u001b[0m\u001b[1;33m,\u001b[0m \u001b[0mtimeout\u001b[0m\u001b[1;33m=\u001b[0m\u001b[1;36m1\u001b[0m\u001b[1;33m)\u001b[0m\u001b[1;33m\u001b[0m\u001b[0m\n\u001b[0m",
      "\u001b[1;31mNameError\u001b[0m: name 'serial' is not defined"
     ]
    }
   ],
   "source": [
    "board.ser = serial.Serial('/dev/ttyUSB0', 115200, timeout=1)"
   ]
  },
  {
   "cell_type": "code",
   "execution_count": 26,
   "metadata": {
    "collapsed": false,
    "scrolled": true
   },
   "outputs": [
    {
     "name": "stdout",
     "output_type": "stream",
     "text": [
      "/dev/ttyS31 Could not configure port: (5, 'Input/output error')\n",
      "/dev/ttyS30 Could not configure port: (5, 'Input/output error')\n",
      "/dev/ttyS29 Could not configure port: (5, 'Input/output error')\n",
      "/dev/ttyS28 Could not configure port: (5, 'Input/output error')\n",
      "/dev/ttyS27 Could not configure port: (5, 'Input/output error')\n",
      "/dev/ttyS26 Could not configure port: (5, 'Input/output error')\n",
      "/dev/ttyS25 Could not configure port: (5, 'Input/output error')\n",
      "/dev/ttyS24 Could not configure port: (5, 'Input/output error')\n",
      "/dev/ttyS23 Could not configure port: (5, 'Input/output error')\n",
      "/dev/ttyS22 Could not configure port: (5, 'Input/output error')\n",
      "/dev/ttyS21 Could not configure port: (5, 'Input/output error')\n",
      "/dev/ttyS20 Could not configure port: (5, 'Input/output error')\n",
      "/dev/ttyS19 Could not configure port: (5, 'Input/output error')\n",
      "/dev/ttyS18 Could not configure port: (5, 'Input/output error')\n",
      "/dev/ttyS17 Could not configure port: (5, 'Input/output error')\n",
      "/dev/ttyS16 Could not configure port: (5, 'Input/output error')\n",
      "/dev/ttyS15 Could not configure port: (5, 'Input/output error')\n",
      "/dev/ttyS14 Could not configure port: (5, 'Input/output error')\n",
      "/dev/ttyS13 Could not configure port: (5, 'Input/output error')\n",
      "/dev/ttyS12 Could not configure port: (5, 'Input/output error')\n",
      "/dev/ttyS11 Could not configure port: (5, 'Input/output error')\n",
      "/dev/ttyS10 Could not configure port: (5, 'Input/output error')\n",
      "/dev/ttyS9 Could not configure port: (5, 'Input/output error')\n",
      "/dev/ttyS8 Could not configure port: (5, 'Input/output error')\n",
      "/dev/ttyS7 Could not configure port: (5, 'Input/output error')\n",
      "/dev/ttyS6 Could not configure port: (5, 'Input/output error')\n",
      "/dev/ttyS5 Could not configure port: (5, 'Input/output error')\n",
      "/dev/ttyS4 Could not configure port: (5, 'Input/output error')\n",
      "/dev/ttyS3 Could not configure port: (5, 'Input/output error')\n",
      "/dev/ttyS2 Could not configure port: (5, 'Input/output error')\n",
      "/dev/ttyS1 Could not configure port: (5, 'Input/output error')\n",
      "/dev/ttyS0 Could not configure port: (5, 'Input/output error')\n",
      "trying to connect to /dev/ttyUSB0\n",
      "b'55ffaa0460'\n",
      "Opening Serial port...\n",
      "Connected to sense at port: /dev/ttyUSB0\n"
     ]
    }
   ],
   "source": [
    "for com in board.scanPosix():\n",
    "                try:\n",
    "                    board.ser = serial.Serial(com, 115200, timeout=1)\n",
    "                    print (\"trying to connect to \" + str(com))\n",
    "                    sys.stdout.flush()\n",
    "                    time.sleep(2)\n",
    "                    response = board.pingSenseBoard()\n",
    "                    print(response)\n",
    "                    sys.stdout.flush()\n",
    "                    if response == \"b'55ffaa0460'\":\n",
    "                        print (\"Opening Serial port...\")\n",
    "                        time.sleep(2)\n",
    "                        print (\"Connected to sense at port: \" + board.ser.name)\n",
    "                        sys.stdout.flush()\n",
    "                        break\n",
    "                    else:\n",
    "                        board.ser.close()\n",
    "\n",
    "                except serial.SerialException as e:\n",
    "                    print(com, e)\n",
    "                    #pass"
   ]
  },
  {
   "cell_type": "code",
   "execution_count": 27,
   "metadata": {
    "collapsed": false
   },
   "outputs": [
    {
     "data": {
      "text/plain": [
       "\"b'55ffaa0460'\""
      ]
     },
     "execution_count": 27,
     "metadata": {},
     "output_type": "execute_result"
    }
   ],
   "source": [
    "board.pingSenseBoard()"
   ]
  },
  {
   "cell_type": "code",
   "execution_count": 28,
   "metadata": {
    "collapsed": false
   },
   "outputs": [
    {
     "data": {
      "text/plain": [
       "\"b'55ffaa'\""
      ]
     },
     "execution_count": 28,
     "metadata": {},
     "output_type": "execute_result"
    }
   ],
   "source": [
    "board.ledOn(2)"
   ]
  },
  {
   "cell_type": "code",
   "execution_count": 29,
   "metadata": {
    "collapsed": false
   },
   "outputs": [
    {
     "data": {
      "text/plain": [
       "\"b'55ffaa'\""
      ]
     },
     "execution_count": 29,
     "metadata": {},
     "output_type": "execute_result"
    }
   ],
   "source": [
    "board.ledOn(3)"
   ]
  },
  {
   "cell_type": "code",
   "execution_count": 30,
   "metadata": {
    "collapsed": false
   },
   "outputs": [
    {
     "data": {
      "text/plain": [
       "\"b'55ffaa'\""
      ]
     },
     "execution_count": 30,
     "metadata": {},
     "output_type": "execute_result"
    }
   ],
   "source": [
    "board.ledOff(2)"
   ]
  },
  {
   "cell_type": "code",
   "execution_count": null,
   "metadata": {
    "collapsed": true
   },
   "outputs": [],
   "source": []
  }
 ],
 "metadata": {
  "kernelspec": {
   "display_name": "Python 3",
   "language": "python",
   "name": "python3"
  },
  "language_info": {
   "codemirror_mode": {
    "name": "ipython",
    "version": 3
   },
   "file_extension": ".py",
   "mimetype": "text/x-python",
   "name": "python",
   "nbconvert_exporter": "python",
   "pygments_lexer": "ipython3",
   "version": "3.4.0"
  }
 },
 "nbformat": 4,
 "nbformat_minor": 0
}
